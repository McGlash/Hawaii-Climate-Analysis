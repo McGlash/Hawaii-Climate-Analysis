{
 "cells": [
  {
   "cell_type": "code",
   "execution_count": 1,
   "metadata": {},
   "outputs": [],
   "source": [
    "%matplotlib inline\n",
    "from matplotlib import style\n",
    "style.use('fivethirtyeight')\n",
    "import matplotlib.pyplot as plt"
   ]
  },
  {
   "cell_type": "code",
   "execution_count": 2,
   "metadata": {},
   "outputs": [],
   "source": [
    "import numpy as np\n",
    "import pandas as pd"
   ]
  },
  {
   "cell_type": "code",
   "execution_count": 3,
   "metadata": {},
   "outputs": [],
   "source": [
    "from datetime import datetime, timedelta"
   ]
  },
  {
   "cell_type": "code",
   "execution_count": 4,
   "metadata": {},
   "outputs": [],
   "source": [
    "from scipy import stats"
   ]
  },
  {
   "cell_type": "markdown",
   "metadata": {},
   "source": [
    "# Reflect Tables into SQLAlchemy ORM"
   ]
  },
  {
   "cell_type": "code",
   "execution_count": 5,
   "metadata": {},
   "outputs": [],
   "source": [
    "# Python SQL toolkit and Object Relational Mapper plus tools\n",
    "import sqlalchemy\n",
    "from sqlalchemy.ext.automap import automap_base\n",
    "from sqlalchemy.orm import Session\n",
    "from sqlalchemy import create_engine, func,  inspect, distinct, desc"
   ]
  },
  {
   "cell_type": "code",
   "execution_count": 6,
   "metadata": {},
   "outputs": [],
   "source": [
    "#create engine\n",
    "engine = create_engine(\"sqlite:///Resources/hawaii.sqlite\")"
   ]
  },
  {
   "cell_type": "code",
   "execution_count": 7,
   "metadata": {},
   "outputs": [],
   "source": [
    "# reflect an existing database into a new model\n",
    "\n",
    "      #Produce a declarative base for an existing schema\n",
    "Base = automap_base()\n",
    "\n",
    "    #reflect the schema/tables\n",
    "Base.prepare(engine, reflect=True)"
   ]
  },
  {
   "cell_type": "code",
   "execution_count": 8,
   "metadata": {},
   "outputs": [
    {
     "data": {
      "text/plain": [
       "['measurement', 'station']"
      ]
     },
     "execution_count": 8,
     "metadata": {},
     "output_type": "execute_result"
    }
   ],
   "source": [
    "# View classes that automap found\n",
    "\n",
    "Base.classes.keys()"
   ]
  },
  {
   "cell_type": "code",
   "execution_count": 9,
   "metadata": {},
   "outputs": [
    {
     "name": "stdout",
     "output_type": "stream",
     "text": [
      "Measurement Table\n",
      "\n",
      "id INTEGER\n",
      "station TEXT\n",
      "date TEXT\n",
      "prcp FLOAT\n",
      "tobs FLOAT\n",
      "\n",
      "Station Table\n",
      "\n",
      "id INTEGER\n",
      "station TEXT\n",
      "name TEXT\n",
      "latitude FLOAT\n",
      "longitude FLOAT\n",
      "elevation FLOAT\n"
     ]
    }
   ],
   "source": [
    "# save table references \n",
    "\n",
    "measurement_table = Base.classes.measurement\n",
    "\n",
    "station_table = Base.classes.station\n",
    "\n",
    "# Create the inspector and connect it to the engine\n",
    "\n",
    "inspector = inspect(engine)\n",
    "\n",
    "# Print the column names and datatypes\n",
    "\n",
    "print(\"Measurement Table\\n\")\n",
    "\n",
    "columns_measurement_table = inspector.get_columns('measurement')\n",
    "\n",
    "for column in columns_measurement_table:\n",
    "    print(column[\"name\"], column[\"type\"])\n",
    "\n",
    "print(\"\\nStation Table\\n\")\n",
    "\n",
    "columns_station_table = inspector.get_columns('station')\n",
    "\n",
    "for column in columns_station_table:\n",
    "    print(column[\"name\"], column[\"type\"])"
   ]
  },
  {
   "cell_type": "code",
   "execution_count": 10,
   "metadata": {},
   "outputs": [
    {
     "data": {
      "text/plain": [
       "(1)"
      ]
     },
     "execution_count": 10,
     "metadata": {},
     "output_type": "execute_result"
    }
   ],
   "source": [
    "# Create session (link from Python to the DB)\n",
    "\n",
    "session = Session(bind=engine)\n",
    "\n",
    "    # verify \n",
    "\n",
    "session.query(measurement_table.id).first()"
   ]
  },
  {
   "cell_type": "markdown",
   "metadata": {},
   "source": [
    "# Exploratory Climate Analysis"
   ]
  },
  {
   "cell_type": "code",
   "execution_count": 150,
   "metadata": {},
   "outputs": [
    {
     "data": {
      "text/html": [
       "<div>\n",
       "<style scoped>\n",
       "    .dataframe tbody tr th:only-of-type {\n",
       "        vertical-align: middle;\n",
       "    }\n",
       "\n",
       "    .dataframe tbody tr th {\n",
       "        vertical-align: top;\n",
       "    }\n",
       "\n",
       "    .dataframe thead th {\n",
       "        text-align: right;\n",
       "    }\n",
       "</style>\n",
       "<table border=\"1\" class=\"dataframe\">\n",
       "  <thead>\n",
       "    <tr style=\"text-align: right;\">\n",
       "      <th></th>\n",
       "      <th>precipitation</th>\n",
       "    </tr>\n",
       "    <tr>\n",
       "      <th>date</th>\n",
       "      <th></th>\n",
       "    </tr>\n",
       "  </thead>\n",
       "  <tbody>\n",
       "    <tr>\n",
       "      <th>2016-08-23</th>\n",
       "      <td>0.00</td>\n",
       "    </tr>\n",
       "    <tr>\n",
       "      <th>2016-08-24</th>\n",
       "      <td>0.08</td>\n",
       "    </tr>\n",
       "    <tr>\n",
       "      <th>2016-08-25</th>\n",
       "      <td>0.08</td>\n",
       "    </tr>\n",
       "    <tr>\n",
       "      <th>2016-08-26</th>\n",
       "      <td>0.00</td>\n",
       "    </tr>\n",
       "    <tr>\n",
       "      <th>2016-08-27</th>\n",
       "      <td>0.00</td>\n",
       "    </tr>\n",
       "  </tbody>\n",
       "</table>\n",
       "</div>"
      ],
      "text/plain": [
       "            precipitation\n",
       "date                     \n",
       "2016-08-23           0.00\n",
       "2016-08-24           0.08\n",
       "2016-08-25           0.08\n",
       "2016-08-26           0.00\n",
       "2016-08-27           0.00"
      ]
     },
     "execution_count": 150,
     "metadata": {},
     "output_type": "execute_result"
    }
   ],
   "source": [
    "# Design a query to retrieve the last 12 months of precipitation data and plot the results\n",
    "\n",
    "    # Calculate the date 1 year ago from the last data point in the database\n",
    "\n",
    "newestdate_query = session.query(measurement_table.date).\\\n",
    "                                 order_by(measurement_table.date.desc()).first()\n",
    "\n",
    "newest_date = datetime.strptime(newestdate_query[0], \"%Y-%m-%d\").date()\n",
    "\n",
    "\n",
    "edge_date = newest_date - timedelta(days=365)\n",
    "\n",
    "    # Perform a query to retrieve the data and precipitation scores\n",
    "    \n",
    "prec_query = session.query(measurement_table.date, measurement_table.prcp).\\\n",
    "               filter(measurement_table.date>=edge_date).\\\n",
    "               all()\n",
    "\n",
    "    # Save the query results as a Pandas DataFrame and set the index to the date column\n",
    "    \n",
    "        #append data to lists\n",
    "        \n",
    "date =[]\n",
    "prec_data =[]\n",
    "\n",
    "for record in prec_query:\n",
    "    date.append(record[0])\n",
    "    prec_data.append(record[1])\n",
    "    \n",
    "            #combine lists into dataframe\n",
    "        \n",
    "prec_df = pd.DataFrame((zip(date, prec_data)), \n",
    "               columns =[ 'date', 'precipitation']) \n",
    "\n",
    "            #drop NaNs\n",
    "prec_df.dropna(inplace=True)\n",
    "\n",
    "    # Sort the dataframe by date\n",
    "prec_df.sort_values('date', ascending=False)\n",
    "\n",
    "            #set index\n",
    "prec_df.set_index('date', inplace=True)\n",
    "\n",
    "prec_df.head()"
   ]
  },
  {
   "cell_type": "code",
   "execution_count": 151,
   "metadata": {},
   "outputs": [
    {
     "data": {
      "image/png": "[encoded data removed]",
      "text/plain": [
       "<Figure size 720x360 with 1 Axes>"
      ]
     },
     "metadata": {},
     "output_type": "display_data"
    }
   ],
   "source": [
    "# plot findings\n",
    "\n",
    "    #setup\n",
    "plt.figure(figsize=(10, 5))\n",
    "\n",
    "labels = [edge_date,\n",
    "         newest_date - timedelta(days=365*4/5), \n",
    "         newest_date - timedelta(days=365*3/5), \n",
    "         newest_date - timedelta(days=365*2/5),\n",
    "         newest_date - timedelta(days=365*1/5),\n",
    "         newest_date]\n",
    "\n",
    "    #plot\n",
    "plt.scatter(prec_df.index,\n",
    "            prec_df[\"precipitation\"],\n",
    "            color='#0504aa')\n",
    "\n",
    "plt.xticks(np.arange(0, 370, 365/5), labels, rotation=90)\n",
    "\n",
    "plt.xlim(-10, 380)\n",
    "plt.ylabel('Total Precipitation (Inches)',fontsize=15, labelpad=20)\n",
    "plt.xlabel('Date',fontsize=15, labelpad=20)\n",
    "\n",
    "\n",
    "plt.title(f'Total Precipitation between {edge_date} and {newest_date}',fontsize=15, pad=20)\n",
    "\n",
    "plt.show()"
   ]
  },
  {
   "cell_type": "code",
   "execution_count": 13,
   "metadata": {},
   "outputs": [
    {
     "name": "stdout",
     "output_type": "stream",
     "text": [
      "Precipitation - Summary statistics\n"
     ]
    },
    {
     "data": {
      "text/html": [
       "<div>\n",
       "<style scoped>\n",
       "    .dataframe tbody tr th:only-of-type {\n",
       "        vertical-align: middle;\n",
       "    }\n",
       "\n",
       "    .dataframe tbody tr th {\n",
       "        vertical-align: top;\n",
       "    }\n",
       "\n",
       "    .dataframe thead th {\n",
       "        text-align: right;\n",
       "    }\n",
       "</style>\n",
       "<table border=\"1\" class=\"dataframe\">\n",
       "  <thead>\n",
       "    <tr style=\"text-align: right;\">\n",
       "      <th></th>\n",
       "      <th>precipitation</th>\n",
       "    </tr>\n",
       "  </thead>\n",
       "  <tbody>\n",
       "    <tr>\n",
       "      <th>count</th>\n",
       "      <td>2021.000000</td>\n",
       "    </tr>\n",
       "    <tr>\n",
       "      <th>mean</th>\n",
       "      <td>0.177279</td>\n",
       "    </tr>\n",
       "    <tr>\n",
       "      <th>std</th>\n",
       "      <td>0.461190</td>\n",
       "    </tr>\n",
       "    <tr>\n",
       "      <th>min</th>\n",
       "      <td>0.000000</td>\n",
       "    </tr>\n",
       "    <tr>\n",
       "      <th>25%</th>\n",
       "      <td>0.000000</td>\n",
       "    </tr>\n",
       "    <tr>\n",
       "      <th>50%</th>\n",
       "      <td>0.020000</td>\n",
       "    </tr>\n",
       "    <tr>\n",
       "      <th>75%</th>\n",
       "      <td>0.130000</td>\n",
       "    </tr>\n",
       "    <tr>\n",
       "      <th>max</th>\n",
       "      <td>6.700000</td>\n",
       "    </tr>\n",
       "  </tbody>\n",
       "</table>\n",
       "</div>"
      ],
      "text/plain": [
       "       precipitation\n",
       "count    2021.000000\n",
       "mean        0.177279\n",
       "std         0.461190\n",
       "min         0.000000\n",
       "25%         0.000000\n",
       "50%         0.020000\n",
       "75%         0.130000\n",
       "max         6.700000"
      ]
     },
     "execution_count": 13,
     "metadata": {},
     "output_type": "execute_result"
    }
   ],
   "source": [
    "# Use Pandas to calculate the summary statistics for the precipitation data\n",
    "\n",
    "print(\"Precipitation - Summary statistics\")\n",
    "\n",
    "prec_df.describe()"
   ]
  },
  {
   "cell_type": "code",
   "execution_count": 14,
   "metadata": {},
   "outputs": [
    {
     "name": "stdout",
     "output_type": "stream",
     "text": [
      "number of stations: 9\n"
     ]
    }
   ],
   "source": [
    "# Design a query to show how many stations are available in this dataset?\n",
    "#station_count = \n",
    "\n",
    "print(f'number of stations: {session.query(distinct(station_table.id)).count()}')"
   ]
  },
  {
   "cell_type": "code",
   "execution_count": 15,
   "metadata": {},
   "outputs": [
    {
     "name": "stdout",
     "output_type": "stream",
     "text": [
      "Number of Observations by Station\n",
      "\n"
     ]
    },
    {
     "data": {
      "text/html": [
       "<div>\n",
       "<style scoped>\n",
       "    .dataframe tbody tr th:only-of-type {\n",
       "        vertical-align: middle;\n",
       "    }\n",
       "\n",
       "    .dataframe tbody tr th {\n",
       "        vertical-align: top;\n",
       "    }\n",
       "\n",
       "    .dataframe thead th {\n",
       "        text-align: right;\n",
       "    }\n",
       "</style>\n",
       "<table border=\"1\" class=\"dataframe\">\n",
       "  <thead>\n",
       "    <tr style=\"text-align: right;\">\n",
       "      <th></th>\n",
       "      <th>Station Id</th>\n",
       "      <th>Activity Count</th>\n",
       "    </tr>\n",
       "  </thead>\n",
       "  <tbody>\n",
       "    <tr>\n",
       "      <th>0</th>\n",
       "      <td>USC00519281</td>\n",
       "      <td>2772</td>\n",
       "    </tr>\n",
       "    <tr>\n",
       "      <th>1</th>\n",
       "      <td>USC00519397</td>\n",
       "      <td>2724</td>\n",
       "    </tr>\n",
       "    <tr>\n",
       "      <th>2</th>\n",
       "      <td>USC00513117</td>\n",
       "      <td>2709</td>\n",
       "    </tr>\n",
       "    <tr>\n",
       "      <th>3</th>\n",
       "      <td>USC00519523</td>\n",
       "      <td>2669</td>\n",
       "    </tr>\n",
       "    <tr>\n",
       "      <th>4</th>\n",
       "      <td>USC00516128</td>\n",
       "      <td>2612</td>\n",
       "    </tr>\n",
       "    <tr>\n",
       "      <th>5</th>\n",
       "      <td>USC00514830</td>\n",
       "      <td>2202</td>\n",
       "    </tr>\n",
       "    <tr>\n",
       "      <th>6</th>\n",
       "      <td>USC00511918</td>\n",
       "      <td>1979</td>\n",
       "    </tr>\n",
       "    <tr>\n",
       "      <th>7</th>\n",
       "      <td>USC00517948</td>\n",
       "      <td>1372</td>\n",
       "    </tr>\n",
       "    <tr>\n",
       "      <th>8</th>\n",
       "      <td>USC00518838</td>\n",
       "      <td>511</td>\n",
       "    </tr>\n",
       "  </tbody>\n",
       "</table>\n",
       "</div>"
      ],
      "text/plain": [
       "    Station Id  Activity Count\n",
       "0  USC00519281            2772\n",
       "1  USC00519397            2724\n",
       "2  USC00513117            2709\n",
       "3  USC00519523            2669\n",
       "4  USC00516128            2612\n",
       "5  USC00514830            2202\n",
       "6  USC00511918            1979\n",
       "7  USC00517948            1372\n",
       "8  USC00518838             511"
      ]
     },
     "execution_count": 15,
     "metadata": {},
     "output_type": "execute_result"
    }
   ],
   "source": [
    "# What are the most active stations? (i.e. what stations have the most rows)?\n",
    "    # List the stations and the counts in descending order.\n",
    "\n",
    "    #query\n",
    "station_activity = session.query(measurement_table.station,\n",
    "                                 func.count(measurement_table.station)).\\\n",
    "                           group_by(measurement_table.station).\\\n",
    "                           order_by(desc(func.count(measurement_table.station))).all()\n",
    "\n",
    "    #into dataframe\n",
    "station_activity_df = pd.DataFrame({\"Station Id\" : [record[0] for record in station_activity],\n",
    "                                    \"Activity Count\" :[record[1] for record in station_activity]})\n",
    "\n",
    "print(\"Number of Observations by Station\\n\")\n",
    "station_activity_df"
   ]
  },
  {
   "cell_type": "code",
   "execution_count": 16,
   "metadata": {},
   "outputs": [
    {
     "name": "stdout",
     "output_type": "stream",
     "text": [
      "Most Active Station - Summary Temperature Statistics\n"
     ]
    },
    {
     "data": {
      "text/html": [
       "<div>\n",
       "<style scoped>\n",
       "    .dataframe tbody tr th:only-of-type {\n",
       "        vertical-align: middle;\n",
       "    }\n",
       "\n",
       "    .dataframe tbody tr th {\n",
       "        vertical-align: top;\n",
       "    }\n",
       "\n",
       "    .dataframe thead th {\n",
       "        text-align: right;\n",
       "    }\n",
       "</style>\n",
       "<table border=\"1\" class=\"dataframe\">\n",
       "  <thead>\n",
       "    <tr style=\"text-align: right;\">\n",
       "      <th></th>\n",
       "      <th>min</th>\n",
       "      <th>max</th>\n",
       "      <th>avg</th>\n",
       "    </tr>\n",
       "  </thead>\n",
       "  <tbody>\n",
       "    <tr>\n",
       "      <th>0</th>\n",
       "      <td>54.0</td>\n",
       "      <td>85.0</td>\n",
       "      <td>71.663781</td>\n",
       "    </tr>\n",
       "  </tbody>\n",
       "</table>\n",
       "</div>"
      ],
      "text/plain": [
       "    min   max        avg\n",
       "0  54.0  85.0  71.663781"
      ]
     },
     "execution_count": 16,
     "metadata": {},
     "output_type": "execute_result"
    }
   ],
   "source": [
    "# Using the station id from the previous query, calculate the lowest temperature recorded, \n",
    "# highest temperature recorded, and average temperature of the most active station?\n",
    "\n",
    "    #id of most active\n",
    "most_active = session.query(measurement_table.station,\n",
    "                          func.count(measurement_table.station)).\\\n",
    "                          group_by(measurement_table.station).\\\n",
    "                          order_by((func.count(measurement_table.station).desc())).\\\n",
    "                          first()\n",
    "\n",
    "    #query min, max and avg temp\n",
    "output = session.query(func.min(measurement_table.tobs),\n",
    "                        func.max(measurement_table.tobs),\n",
    "                        func.avg(measurement_table.tobs)).\\\n",
    "                   filter(measurement_table.station == most_active[0]).all()     \n",
    "\n",
    "\n",
    "\n",
    "stats_most_active_station = pd.DataFrame(output, columns= [\"min\", \"max\", \"avg\"])\n",
    "                                                         \n",
    "\n",
    "print(\"Most Active Station - Summary Temperature Statistics\")\n",
    "\n",
    "stats_most_active_station"
   ]
  },
  {
   "cell_type": "code",
   "execution_count": 152,
   "metadata": {},
   "outputs": [
    {
     "data": {
      "image/png": "[encoded data removed]",
      "text/plain": [
       "<Figure size 720x576 with 1 Axes>"
      ]
     },
     "metadata": {},
     "output_type": "display_data"
    }
   ],
   "source": [
    "# Choose the station with the highest number of temperature observations.\n",
    "# Query the last 12 months of temperature observation data for this station and plot the results as a histogram\n",
    "\n",
    "    #id of most temp obs\n",
    "most_temp_obs= session.query(measurement_table.station,\n",
    "                            func.count(measurement_table.tobs)).\\\n",
    "                      group_by(measurement_table.station).\\\n",
    "                      order_by(desc(func.count(measurement_table.tobs))).first()\n",
    "    #query\n",
    "most_temp_obs_and_last_year_data = session.query(measurement_table.tobs).\\\n",
    "                                           filter(measurement_table.station == most_temp_obs[0]).\\\n",
    "                                           filter(measurement_table.date>=edge_date).\\\n",
    "                                           all()  \n",
    "\n",
    "    #create list\n",
    "\n",
    "temp_data = []\n",
    "\n",
    "for record in most_temp_obs_and_last_year_data:\n",
    "    temp_data.append(record[0])\n",
    "    \n",
    "temp_data\n",
    "\n",
    "    #plot histogram\n",
    "    \n",
    "plt.figure(figsize=[10,8])\n",
    "\n",
    "plt.hist(temp_data, bins=12, width = 1, color='#0504aa')\n",
    "plt.xlabel('Temperature (\\N{DEGREE SIGN}F)',fontsize=15, labelpad=20)\n",
    "plt.ylabel('Frequency',fontsize=15, labelpad=20)\n",
    "plt.xticks(fontsize=12)\n",
    "plt.yticks(fontsize=12)\n",
    "plt.title(f'{most_temp_obs[0]}  - Temperatures (\\N{DEGREE SIGN}F) between {edge_date} and {newest_date}',fontsize=15, pad=20)\n",
    "plt.show()"
   ]
  },
  {
   "cell_type": "markdown",
   "metadata": {},
   "source": [
    "## Bonus Challenge Assignment"
   ]
  },
  {
   "cell_type": "markdown",
   "metadata": {},
   "source": [
    "Temperature Analysis I\n",
    "---\n",
    "\n",
    "* The average temperature in June (73.68 F) is signifigantly higher than the average temperture in December (71.04 F)."
   ]
  },
  {
   "cell_type": "code",
   "execution_count": 18,
   "metadata": {},
   "outputs": [
    {
     "name": "stdout",
     "output_type": "stream",
     "text": [
      "Mean June Temp: 73.68\n",
      "Mean December Temp: 71.04\n"
     ]
    }
   ],
   "source": [
    "#Identify the average temperature in June and December at all stations across all available years in the dataset\n",
    "\n",
    "    #create function to find \n",
    "    \n",
    "june_temp_obs = session.query(measurement_table.tobs).\\\n",
    "                        filter(func.strftime(\"%m\", measurement_table.date) == \"05\").all()\n",
    "\n",
    "dec_temp_obs = session.query(measurement_table.tobs).\\\n",
    "                           filter(func.strftime(\"%m\", measurement_table.date) == \"12\").all()\n",
    "\n",
    "print(f'Mean June Temp: {round(np.mean(june_temp_obs),2)}')\n",
    "\n",
    "print(f'Mean December Temp: {round(np.mean(dec_temp_obs),2)}')"
   ]
  },
  {
   "cell_type": "code",
   "execution_count": 19,
   "metadata": {},
   "outputs": [
    {
     "data": {
      "text/plain": [
       "DescribeResult(nobs=1733, minmax=(array([63.]), array([87.])), mean=array([73.68090017]), variance=array([11.26128048]), skewness=array([-0.29038381]), kurtosis=array([-0.17598489]))"
      ]
     },
     "execution_count": 19,
     "metadata": {},
     "output_type": "execute_result"
    }
   ],
   "source": [
    "    #look at summary stats\n",
    "        #June\n",
    "stats.describe(june_temp_obs)"
   ]
  },
  {
   "cell_type": "code",
   "execution_count": 20,
   "metadata": {},
   "outputs": [
    {
     "data": {
      "text/plain": [
       "DescribeResult(nobs=1517, minmax=(array([56.]), array([83.])), mean=array([71.04152933]), variance=array([14.03191534]), skewness=array([-0.4050973]), kurtosis=array([0.45781716]))"
      ]
     },
     "execution_count": 20,
     "metadata": {},
     "output_type": "execute_result"
    }
   ],
   "source": [
    "    #December\n",
    "stats.describe(dec_temp_obs)"
   ]
  },
  {
   "cell_type": "code",
   "execution_count": 21,
   "metadata": {},
   "outputs": [
    {
     "data": {
      "text/plain": [
       "Ttest_indResult(statistic=array([21.03239802]), pvalue=array([7.45465609e-92]))"
      ]
     },
     "execution_count": 21,
     "metadata": {},
     "output_type": "execute_result"
    }
   ],
   "source": [
    "#Use the t-test to determine whether the difference in the means, if any, is statistically significant\n",
    "\n",
    "stats.ttest_ind(june_temp_obs, dec_temp_obs, equal_var = False)"
   ]
  },
  {
   "cell_type": "markdown",
   "metadata": {},
   "source": [
    "Temperature Analysis II\n",
    "---"
   ]
  },
  {
   "cell_type": "code",
   "execution_count": 22,
   "metadata": {},
   "outputs": [
    {
     "name": "stdout",
     "output_type": "stream",
     "text": [
      "[(62.0, 69.57142857142857, 74.0)]\n"
     ]
    }
   ],
   "source": [
    "# This function called `calc_temps` will accept start date and end date in the format '%Y-%m-%d' \n",
    "# and return the minimum, average, and maximum temperatures for that range of dates\n",
    "\n",
    "def calc_temps(start_date, end_date):\n",
    "    \"\"\"TMIN, TAVG, and TMAX for a list of dates.\n",
    "    \n",
    "    Args:\n",
    "        start_date (string): A date string in the format %Y-%m-%d\n",
    "        end_date (string): A date string in the format %Y-%m-%d\n",
    "        \n",
    "    Returns:\n",
    "        TMIN, TAVE, and TMAX\n",
    "    \"\"\"\n",
    "    \n",
    "    return session.query(func.min(measurement_table.tobs), \n",
    "                         func.avg(measurement_table.tobs), \n",
    "                         func.max(measurement_table.tobs)).\\\n",
    "        filter(measurement_table.date >= start_date).filter(measurement_table.date <= end_date).all()\n",
    "\n",
    "# function usage example\n",
    "print(calc_temps('2012-02-28', '2012-03-05'))"
   ]
  },
  {
   "cell_type": "code",
   "execution_count": 23,
   "metadata": {},
   "outputs": [
    {
     "name": "stdout",
     "output_type": "stream",
     "text": [
      "Summary Temperature Statistics\n"
     ]
    },
    {
     "data": {
      "text/html": [
       "<div>\n",
       "<style scoped>\n",
       "    .dataframe tbody tr th:only-of-type {\n",
       "        vertical-align: middle;\n",
       "    }\n",
       "\n",
       "    .dataframe tbody tr th {\n",
       "        vertical-align: top;\n",
       "    }\n",
       "\n",
       "    .dataframe thead th {\n",
       "        text-align: right;\n",
       "    }\n",
       "</style>\n",
       "<table border=\"1\" class=\"dataframe\">\n",
       "  <thead>\n",
       "    <tr style=\"text-align: right;\">\n",
       "      <th></th>\n",
       "      <th>min</th>\n",
       "      <th>avg</th>\n",
       "      <th>max</th>\n",
       "    </tr>\n",
       "  </thead>\n",
       "  <tbody>\n",
       "    <tr>\n",
       "      <th>0</th>\n",
       "      <td>66.0</td>\n",
       "      <td>74.765766</td>\n",
       "      <td>87.0</td>\n",
       "    </tr>\n",
       "  </tbody>\n",
       "</table>\n",
       "</div>"
      ],
      "text/plain": [
       "    min        avg   max\n",
       "0  66.0  74.765766  87.0"
      ]
     },
     "execution_count": 23,
     "metadata": {},
     "output_type": "execute_result"
    }
   ],
   "source": [
    "# Use previous function `calc_temps` to calculate the tmin, tavg, and tmax \n",
    "# for the trip using the previous year's data for those same dates.\n",
    "\n",
    "start_date = \"2017-05-07\"\n",
    "\n",
    "end_date = \"2017-05-26\"\n",
    "\n",
    "temp_stats = pd.DataFrame(calc_temps(start_date, end_date), \n",
    "                                         columns= [\"min\", \"avg\", \"max\"])\n",
    "                                                         \n",
    "print(\"Summary Temperature Statistics\")\n",
    "\n",
    "temp_stats"
   ]
  },
  {
   "cell_type": "code",
   "execution_count": 24,
   "metadata": {},
   "outputs": [
    {
     "data": {
      "text/plain": [
       "[]"
      ]
     },
     "execution_count": 24,
     "metadata": {},
     "output_type": "execute_result"
    },
    {
     "data": {
      "image/png": "[encoded data removed]",
      "text/plain": [
       "<Figure size 360x360 with 1 Axes>"
      ]
     },
     "metadata": {},
     "output_type": "display_data"
    }
   ],
   "source": [
    "# Plot the results from your previous query as a bar chart. \n",
    "    # Use the average temperature for the y value\n",
    "    # Use the peak-to-peak (tmax-tmin) value as the y error bar (yerr)\n",
    "\n",
    "ax = temp_stats.plot(y=\"avg\", x=None, \n",
    "                     kind=\"bar\", \n",
    "                     yerr=[temp_stats[\"min\"] - temp_stats[\"max\"]],\n",
    "                     figsize=(5,5),\n",
    "                     legend=False,\n",
    "                     ylim=(0, 110),\n",
    "                     color='#0504aa',\n",
    "                     xticks=None)\n",
    "\n",
    "ax.set_ylabel(\"Temperature (\\N{DEGREE SIGN}F)\", fontsize=15, labelpad=10)\n",
    "ax.set_title(\"Trip Average Temperature\", fontsize=15, pad=20)\n",
    "ax.set_xticklabels(\"\")"
   ]
  },
  {
   "cell_type": "code",
   "execution_count": 25,
   "metadata": {},
   "outputs": [],
   "source": [
    "# Calculate the total amount of rainfall per weather station for your trip dates using the previous year's matching dates.\n",
    "\n",
    " #query - precipitation amount and station (name, latitude, longitude, and elevation)\n",
    "\n",
    "sel = [measurement_table.station,\n",
    "        station_table.name, \n",
    "        func.sum(measurement_table.prcp), \n",
    "        station_table.latitude,\n",
    "        station_table.longitude,\n",
    "        station_table.elevation]\n",
    "\n",
    "station_prec_sum = session.query(*sel).\\\n",
    "                           group_by(measurement_table.station).\\\n",
    "                           filter(measurement_table.date >= start_date).\\\n",
    "                           filter(measurement_table.date <= end_date).\\\n",
    "                           filter(measurement_table.station==station_table.station).\\\n",
    "                           order_by(desc(func.sum(measurement_table.prcp))).all()\n",
    "   "
   ]
  },
  {
   "cell_type": "code",
   "execution_count": 26,
   "metadata": {},
   "outputs": [
    {
     "name": "stdout",
     "output_type": "stream",
     "text": [
      "Total Precipitation by Station\n",
      "\n"
     ]
    },
    {
     "data": {
      "text/html": [
       "<div>\n",
       "<style scoped>\n",
       "    .dataframe tbody tr th:only-of-type {\n",
       "        vertical-align: middle;\n",
       "    }\n",
       "\n",
       "    .dataframe tbody tr th {\n",
       "        vertical-align: top;\n",
       "    }\n",
       "\n",
       "    .dataframe thead th {\n",
       "        text-align: right;\n",
       "    }\n",
       "</style>\n",
       "<table border=\"1\" class=\"dataframe\">\n",
       "  <thead>\n",
       "    <tr style=\"text-align: right;\">\n",
       "      <th></th>\n",
       "      <th>Station Name</th>\n",
       "      <th>Total Precipitation</th>\n",
       "      <th>Station Latitude</th>\n",
       "      <th>Station Longitude</th>\n",
       "      <th>Station Elevation</th>\n",
       "    </tr>\n",
       "    <tr>\n",
       "      <th>Station Id</th>\n",
       "      <th></th>\n",
       "      <th></th>\n",
       "      <th></th>\n",
       "      <th></th>\n",
       "      <th></th>\n",
       "    </tr>\n",
       "  </thead>\n",
       "  <tbody>\n",
       "    <tr>\n",
       "      <th>USC00516128</th>\n",
       "      <td>MANOA LYON ARBO 785.2, HI US</td>\n",
       "      <td>8.31</td>\n",
       "      <td>21.33310</td>\n",
       "      <td>-157.80250</td>\n",
       "      <td>152.4</td>\n",
       "    </tr>\n",
       "    <tr>\n",
       "      <th>USC00519281</th>\n",
       "      <td>WAIHEE 837.5, HI US</td>\n",
       "      <td>3.94</td>\n",
       "      <td>21.45167</td>\n",
       "      <td>-157.84889</td>\n",
       "      <td>32.9</td>\n",
       "    </tr>\n",
       "    <tr>\n",
       "      <th>USC00513117</th>\n",
       "      <td>KANEOHE 838.1, HI US</td>\n",
       "      <td>3.33</td>\n",
       "      <td>21.42340</td>\n",
       "      <td>-157.80150</td>\n",
       "      <td>14.6</td>\n",
       "    </tr>\n",
       "    <tr>\n",
       "      <th>USC00519523</th>\n",
       "      <td>WAIMANALO EXPERIMENTAL FARM, HI US</td>\n",
       "      <td>2.42</td>\n",
       "      <td>21.33556</td>\n",
       "      <td>-157.71139</td>\n",
       "      <td>19.5</td>\n",
       "    </tr>\n",
       "    <tr>\n",
       "      <th>USC00514830</th>\n",
       "      <td>KUALOA RANCH HEADQUARTERS 886.9, HI US</td>\n",
       "      <td>1.98</td>\n",
       "      <td>21.52130</td>\n",
       "      <td>-157.83740</td>\n",
       "      <td>7.0</td>\n",
       "    </tr>\n",
       "    <tr>\n",
       "      <th>USC00519397</th>\n",
       "      <td>WAIKIKI 717.2, HI US</td>\n",
       "      <td>0.44</td>\n",
       "      <td>21.27160</td>\n",
       "      <td>-157.81680</td>\n",
       "      <td>3.0</td>\n",
       "    </tr>\n",
       "  </tbody>\n",
       "</table>\n",
       "</div>"
      ],
      "text/plain": [
       "                                       Station Name  Total Precipitation  \\\n",
       "Station Id                                                                 \n",
       "USC00516128            MANOA LYON ARBO 785.2, HI US                 8.31   \n",
       "USC00519281                     WAIHEE 837.5, HI US                 3.94   \n",
       "USC00513117                    KANEOHE 838.1, HI US                 3.33   \n",
       "USC00519523      WAIMANALO EXPERIMENTAL FARM, HI US                 2.42   \n",
       "USC00514830  KUALOA RANCH HEADQUARTERS 886.9, HI US                 1.98   \n",
       "USC00519397                    WAIKIKI 717.2, HI US                 0.44   \n",
       "\n",
       "             Station Latitude  Station Longitude  Station Elevation  \n",
       "Station Id                                                           \n",
       "USC00516128          21.33310         -157.80250              152.4  \n",
       "USC00519281          21.45167         -157.84889               32.9  \n",
       "USC00513117          21.42340         -157.80150               14.6  \n",
       "USC00519523          21.33556         -157.71139               19.5  \n",
       "USC00514830          21.52130         -157.83740                7.0  \n",
       "USC00519397          21.27160         -157.81680                3.0  "
      ]
     },
     "execution_count": 26,
     "metadata": {},
     "output_type": "execute_result"
    }
   ],
   "source": [
    " #into dataframe\n",
    "station_prec_sum_df = pd.DataFrame({\"Station Id\" : [record[0] for record in station_prec_sum],\n",
    "                                    \"Station Name\" : [record[1] for record in station_prec_sum],\n",
    "                                    \"Total Precipitation\" : [record[2] for record in station_prec_sum],\n",
    "                                    \"Station Latitude\" : [record[3] for record in station_prec_sum],\n",
    "                                    \"Station Longitude\" : [record[4] for record in station_prec_sum],\n",
    "                                    \"Station Elevation\" : [record[5] for record in station_prec_sum]\n",
    "                                   })\n",
    "\n",
    "    #display findings     \n",
    "print(\"Total Precipitation by Station\\n\")\n",
    "                                   \n",
    "station_prec_sum_df.set_index(\"Station Id\", inplace=True)\n",
    "\n",
    "station_prec_sum_df"
   ]
  },
  {
   "cell_type": "code",
   "execution_count": 27,
   "metadata": {},
   "outputs": [
    {
     "data": {
      "text/plain": [
       "[(62.0, 69.15384615384616, 77.0)]"
      ]
     },
     "execution_count": 27,
     "metadata": {},
     "output_type": "execute_result"
    }
   ],
   "source": [
    "# Create a query that will calculate the daily normals \n",
    "# (i.e. the averages for tmin, tmax, and tavg for all historic data matching a specific month and day)\n",
    "\n",
    "def daily_normals(date):\n",
    "    \"\"\"Daily Normals.\n",
    "    \n",
    "    Args:\n",
    "        date (str): A date string in the format '%m-%d'\n",
    "        \n",
    "    Returns:\n",
    "        A list of tuples containing the daily normals, tmin, tavg, and tmax\n",
    "    \n",
    "    \"\"\"\n",
    "    \n",
    "    sel = [func.min(measurement_table.tobs), func.avg(measurement_table.tobs), func.max(measurement_table.tobs)]\n",
    "    return session.query(*sel).filter(func.strftime(\"%m-%d\", measurement_table.date) == date).all()\n",
    "    \n",
    "daily_normals(\"01-01\")"
   ]
  },
  {
   "cell_type": "code",
   "execution_count": 28,
   "metadata": {},
   "outputs": [],
   "source": [
    "# calculate the daily normals for your trip\n",
    "\n",
    "start = datetime.strptime(start_date, \"%Y-%m-%d\")\n",
    "\n",
    "end = datetime.strptime(end_date, \"%Y-%m-%d\")\n",
    "\n",
    "    # Use the start and end date to create a range of dates\n",
    "date_list = [end - timedelta(days=x) for x in range(26)]\n",
    "\n",
    "    # Strip off the year and save a list of %m-%d strings\n",
    "date_list_string_format = []\n",
    "\n",
    "for date in date_list:\n",
    "     date_list_string_format.append(date.strftime(\"%m-%d\"))\n",
    "\n",
    "    # Loop through the list of %m-%d strings and calculate the normals for each date and \n",
    "    # push each tuple of calculations into a list called `normals`\n",
    "\n",
    "normals = []\n",
    "    \n",
    "for date in date_list_string_format:\n",
    "    normals.append(daily_normals(date))"
   ]
  },
  {
   "cell_type": "code",
   "execution_count": 29,
   "metadata": {},
   "outputs": [
    {
     "data": {
      "text/html": [
       "<div>\n",
       "<style scoped>\n",
       "    .dataframe tbody tr th:only-of-type {\n",
       "        vertical-align: middle;\n",
       "    }\n",
       "\n",
       "    .dataframe tbody tr th {\n",
       "        vertical-align: top;\n",
       "    }\n",
       "\n",
       "    .dataframe thead th {\n",
       "        text-align: right;\n",
       "    }\n",
       "</style>\n",
       "<table border=\"1\" class=\"dataframe\">\n",
       "  <thead>\n",
       "    <tr style=\"text-align: right;\">\n",
       "      <th></th>\n",
       "      <th>tmin</th>\n",
       "      <th>tavg</th>\n",
       "      <th>tmax</th>\n",
       "    </tr>\n",
       "    <tr>\n",
       "      <th>Date</th>\n",
       "      <th></th>\n",
       "      <th></th>\n",
       "      <th></th>\n",
       "    </tr>\n",
       "  </thead>\n",
       "  <tbody>\n",
       "    <tr>\n",
       "      <th>2017-05-26</th>\n",
       "      <td>65.0</td>\n",
       "      <td>74.036364</td>\n",
       "      <td>82.0</td>\n",
       "    </tr>\n",
       "    <tr>\n",
       "      <th>2017-05-25</th>\n",
       "      <td>68.0</td>\n",
       "      <td>74.275862</td>\n",
       "      <td>79.0</td>\n",
       "    </tr>\n",
       "    <tr>\n",
       "      <th>2017-05-24</th>\n",
       "      <td>67.0</td>\n",
       "      <td>73.948276</td>\n",
       "      <td>79.0</td>\n",
       "    </tr>\n",
       "    <tr>\n",
       "      <th>2017-05-23</th>\n",
       "      <td>68.0</td>\n",
       "      <td>74.948276</td>\n",
       "      <td>87.0</td>\n",
       "    </tr>\n",
       "    <tr>\n",
       "      <th>2017-05-22</th>\n",
       "      <td>64.0</td>\n",
       "      <td>74.456140</td>\n",
       "      <td>80.0</td>\n",
       "    </tr>\n",
       "    <tr>\n",
       "      <th>2017-05-21</th>\n",
       "      <td>64.0</td>\n",
       "      <td>72.964286</td>\n",
       "      <td>80.0</td>\n",
       "    </tr>\n",
       "    <tr>\n",
       "      <th>2017-05-20</th>\n",
       "      <td>68.0</td>\n",
       "      <td>73.896552</td>\n",
       "      <td>79.0</td>\n",
       "    </tr>\n",
       "    <tr>\n",
       "      <th>2017-05-19</th>\n",
       "      <td>65.0</td>\n",
       "      <td>73.807018</td>\n",
       "      <td>79.0</td>\n",
       "    </tr>\n",
       "    <tr>\n",
       "      <th>2017-05-18</th>\n",
       "      <td>68.0</td>\n",
       "      <td>74.107143</td>\n",
       "      <td>82.0</td>\n",
       "    </tr>\n",
       "    <tr>\n",
       "      <th>2017-05-17</th>\n",
       "      <td>68.0</td>\n",
       "      <td>74.450000</td>\n",
       "      <td>79.0</td>\n",
       "    </tr>\n",
       "    <tr>\n",
       "      <th>2017-05-16</th>\n",
       "      <td>68.0</td>\n",
       "      <td>74.379310</td>\n",
       "      <td>80.0</td>\n",
       "    </tr>\n",
       "    <tr>\n",
       "      <th>2017-05-15</th>\n",
       "      <td>63.0</td>\n",
       "      <td>73.690909</td>\n",
       "      <td>79.0</td>\n",
       "    </tr>\n",
       "    <tr>\n",
       "      <th>2017-05-14</th>\n",
       "      <td>63.0</td>\n",
       "      <td>73.892857</td>\n",
       "      <td>80.0</td>\n",
       "    </tr>\n",
       "    <tr>\n",
       "      <th>2017-05-13</th>\n",
       "      <td>67.0</td>\n",
       "      <td>73.142857</td>\n",
       "      <td>79.0</td>\n",
       "    </tr>\n",
       "    <tr>\n",
       "      <th>2017-05-12</th>\n",
       "      <td>65.0</td>\n",
       "      <td>73.137931</td>\n",
       "      <td>79.0</td>\n",
       "    </tr>\n",
       "    <tr>\n",
       "      <th>2017-05-11</th>\n",
       "      <td>65.0</td>\n",
       "      <td>73.611111</td>\n",
       "      <td>79.0</td>\n",
       "    </tr>\n",
       "    <tr>\n",
       "      <th>2017-05-10</th>\n",
       "      <td>64.0</td>\n",
       "      <td>73.315789</td>\n",
       "      <td>78.0</td>\n",
       "    </tr>\n",
       "    <tr>\n",
       "      <th>2017-05-09</th>\n",
       "      <td>67.0</td>\n",
       "      <td>72.932203</td>\n",
       "      <td>79.0</td>\n",
       "    </tr>\n",
       "    <tr>\n",
       "      <th>2017-05-08</th>\n",
       "      <td>65.0</td>\n",
       "      <td>72.188679</td>\n",
       "      <td>80.0</td>\n",
       "    </tr>\n",
       "    <tr>\n",
       "      <th>2017-05-07</th>\n",
       "      <td>64.0</td>\n",
       "      <td>71.788462</td>\n",
       "      <td>79.0</td>\n",
       "    </tr>\n",
       "    <tr>\n",
       "      <th>2017-05-06</th>\n",
       "      <td>66.0</td>\n",
       "      <td>73.140351</td>\n",
       "      <td>80.0</td>\n",
       "    </tr>\n",
       "    <tr>\n",
       "      <th>2017-05-05</th>\n",
       "      <td>67.0</td>\n",
       "      <td>73.396552</td>\n",
       "      <td>79.0</td>\n",
       "    </tr>\n",
       "    <tr>\n",
       "      <th>2017-05-04</th>\n",
       "      <td>65.0</td>\n",
       "      <td>73.596491</td>\n",
       "      <td>78.0</td>\n",
       "    </tr>\n",
       "    <tr>\n",
       "      <th>2017-05-03</th>\n",
       "      <td>67.0</td>\n",
       "      <td>73.410714</td>\n",
       "      <td>84.0</td>\n",
       "    </tr>\n",
       "    <tr>\n",
       "      <th>2017-05-02</th>\n",
       "      <td>65.0</td>\n",
       "      <td>73.050847</td>\n",
       "      <td>79.0</td>\n",
       "    </tr>\n",
       "    <tr>\n",
       "      <th>2017-05-01</th>\n",
       "      <td>65.0</td>\n",
       "      <td>72.759259</td>\n",
       "      <td>79.0</td>\n",
       "    </tr>\n",
       "  </tbody>\n",
       "</table>\n",
       "</div>"
      ],
      "text/plain": [
       "            tmin       tavg  tmax\n",
       "Date                             \n",
       "2017-05-26  65.0  74.036364  82.0\n",
       "2017-05-25  68.0  74.275862  79.0\n",
       "2017-05-24  67.0  73.948276  79.0\n",
       "2017-05-23  68.0  74.948276  87.0\n",
       "2017-05-22  64.0  74.456140  80.0\n",
       "2017-05-21  64.0  72.964286  80.0\n",
       "2017-05-20  68.0  73.896552  79.0\n",
       "2017-05-19  65.0  73.807018  79.0\n",
       "2017-05-18  68.0  74.107143  82.0\n",
       "2017-05-17  68.0  74.450000  79.0\n",
       "2017-05-16  68.0  74.379310  80.0\n",
       "2017-05-15  63.0  73.690909  79.0\n",
       "2017-05-14  63.0  73.892857  80.0\n",
       "2017-05-13  67.0  73.142857  79.0\n",
       "2017-05-12  65.0  73.137931  79.0\n",
       "2017-05-11  65.0  73.611111  79.0\n",
       "2017-05-10  64.0  73.315789  78.0\n",
       "2017-05-09  67.0  72.932203  79.0\n",
       "2017-05-08  65.0  72.188679  80.0\n",
       "2017-05-07  64.0  71.788462  79.0\n",
       "2017-05-06  66.0  73.140351  80.0\n",
       "2017-05-05  67.0  73.396552  79.0\n",
       "2017-05-04  65.0  73.596491  78.0\n",
       "2017-05-03  67.0  73.410714  84.0\n",
       "2017-05-02  65.0  73.050847  79.0\n",
       "2017-05-01  65.0  72.759259  79.0"
      ]
     },
     "execution_count": 29,
     "metadata": {},
     "output_type": "execute_result"
    }
   ],
   "source": [
    "# Load the previous query results into a Pandas DataFrame and add the `trip_dates` range as the `date` index\n",
    "normals_df = pd.DataFrame({\"Date\" : date_list,\n",
    "                           \"tmin\" : [record[0][0] for record in normals],\n",
    "                           \"tavg\" : [record[0][1] for record in normals],\n",
    "                           \"tmax\" : [record[0][2] for record in normals]\n",
    "                                   })\n",
    "\n",
    "labels = normals_df[\"Date\"].tolist()\n",
    "\n",
    "normals_df.set_index(\"Date\", inplace=True)\n",
    "\n",
    "normals_df"
   ]
  },
  {
   "cell_type": "code",
   "execution_count": 30,
   "metadata": {},
   "outputs": [
    {
     "data": {
      "text/plain": [
       "(45, 90)"
      ]
     },
     "execution_count": 30,
     "metadata": {},
     "output_type": "execute_result"
    },
    {
     "data": {
      "image/png": "[encoded data removed]",
      "text/plain": [
       "<Figure size 720x360 with 1 Axes>"
      ]
     },
     "metadata": {},
     "output_type": "display_data"
    }
   ],
   "source": [
    "# Plot the daily normals as an area plot \n",
    "\n",
    "ax = normals_df.plot.area(stacked=False, figsize=(10,5), legend=\"lower-right\")\n",
    "\n",
    "ax.set_ylabel(\"Temperature (\\N{DEGREE SIGN}F)\", fontsize=15, labelpad=10)\n",
    "ax.set_xlabel(\"Date\", fontsize=15, labelpad=10)\n",
    "ax.set_title(\"Temperature Summary Stats\", fontsize=15, pad=20)\n",
    "ax.set_ylim(45, 90)"
   ]
  }
 ],
 "metadata": {
  "kernel_info": {
   "name": "python3"
  },
  "kernelspec": {
   "display_name": "Python 3",
   "language": "python",
   "name": "python3"
  },
  "language_info": {
   "codemirror_mode": {
    "name": "ipython",
    "version": 3
   },
   "file_extension": ".py",
   "mimetype": "text/x-python",
   "name": "python",
   "nbconvert_exporter": "python",
   "pygments_lexer": "ipython3",
   "version": "3.7.6"
  },
  "nteract": {
   "version": "0.12.3"
  },
  "varInspector": {
   "cols": {
    "lenName": 16,
    "lenType": 16,
    "lenVar": 40
   },
   "kernels_config": {
    "python": {
     "delete_cmd_postfix": "",
     "delete_cmd_prefix": "del ",
     "library": "var_list.py",
     "varRefreshCmd": "print(var_dic_list())"
    },
    "r": {
     "delete_cmd_postfix": ") ",
     "delete_cmd_prefix": "rm(",
     "library": "var_list.r",
     "varRefreshCmd": "cat(var_dic_list()) "
    }
   },
   "types_to_exclude": [
    "module",
    "function",
    "builtin_function_or_method",
    "instance",
    "_Feature"
   ],
   "window_display": false
  }
 },
 "nbformat": 4,
 "nbformat_minor": 2
}
